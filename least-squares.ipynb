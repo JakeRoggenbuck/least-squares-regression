{
 "cells": [
  {
   "cell_type": "code",
   "execution_count": 3,
   "id": "c7b04f6b",
   "metadata": {},
   "outputs": [],
   "source": [
    "using Plots"
   ]
  },
  {
   "cell_type": "code",
   "execution_count": 5,
   "id": "408b3510",
   "metadata": {},
   "outputs": [
    {
     "data": {
      "text/plain": [
       "f (generic function with 1 method)"
      ]
     },
     "execution_count": 5,
     "metadata": {},
     "output_type": "execute_result"
    }
   ],
   "source": [
    "f(x) = (x*2) * rand((0.6, 0.8))"
   ]
  },
  {
   "cell_type": "code",
   "execution_count": 6,
   "id": "715a577a",
   "metadata": {},
   "outputs": [
    {
     "data": {
      "text/plain": [
       "10-element Array{Float64,1}:\n",
       "  1.6\n",
       "  2.4\n",
       "  3.5999999999999996\n",
       "  4.8\n",
       "  6.0\n",
       "  7.199999999999999\n",
       " 11.200000000000001\n",
       "  9.6\n",
       " 14.4\n",
       " 12.0"
      ]
     },
     "execution_count": 6,
     "metadata": {},
     "output_type": "execute_result"
    }
   ],
   "source": [
    "x = 1.:10.\n",
    "y = [f(a) for a in x]"
   ]
  },
  {
   "cell_type": "code",
   "execution_count": null,
   "id": "04cea14d",
   "metadata": {},
   "outputs": [],
   "source": []
  }
 ],
 "metadata": {
  "kernelspec": {
   "display_name": "Julia 1.4.1",
   "language": "julia",
   "name": "julia-1.4"
  },
  "language_info": {
   "file_extension": ".jl",
   "mimetype": "application/julia",
   "name": "julia",
   "version": "1.4.1"
  }
 },
 "nbformat": 4,
 "nbformat_minor": 5
}
